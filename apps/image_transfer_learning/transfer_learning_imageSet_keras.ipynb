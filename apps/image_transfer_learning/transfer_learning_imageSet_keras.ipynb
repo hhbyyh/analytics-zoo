{
 "cells": [
  {
   "cell_type": "markdown",
   "metadata": {},
   "source": [
    "# Image Transfer Learning with ImageSet and Keras API"
   ]
  },
  {
   "cell_type": "markdown",
   "metadata": {},
   "source": [
    "Using the high level transfer learning APIs, you can easily customize pretrained models for feature extraction or fine-tuning.\n",
    "In this notebook, we will use a pre-trained Inception_V1 model. But we will operate on the pre-trained model to freeze first few layers, replace the classifier on the top, then fine tune the whole model. And we use the fine-tuned model to solve the dogs-vs-cats classification problem,"
   ]
  },
  {
   "cell_type": "markdown",
   "metadata": {},
   "source": [
    "## Preparation"
   ]
  },
  {
   "cell_type": "markdown",
   "metadata": {},
   "source": [
    "### 1. Get the dogs-vs-cats datasets"
   ]
  },
  {
   "cell_type": "markdown",
   "metadata": {},
   "source": [
    "Download the image dataset from https://www.kaggle.com/c/dogs-vs-cats and decompress it. \n",
    "\n",
    "The following commands copy about 1100 images of cats and dogs into demo/cats and demo/dogs separately. \n",
    "```shell\n",
    "mkdir -p demo/dogs\n",
    "mkdir -p demo/cats\n",
    "cp train/cat.7* demo/cats\n",
    "cp train/dog.7* demo/dogs\n",
    "```"
   ]
  },
  {
   "cell_type": "markdown",
   "metadata": {},
   "source": [
    "### 2. Get the pre-trained Inception-V1 model"
   ]
  },
  {
   "cell_type": "markdown",
   "metadata": {},
   "source": [
    "Download the pre-trained Inception-V1 model from [Zoo](https://s3-ap-southeast-1.amazonaws.com/bigdl-models/imageclassification/imagenet/bigdl_inception-v1_imagenet_0.4.0.model) \n",
    " Alternatively, user may also download pre-trained caffe/Tensorflow/keras model."
   ]
  },
  {
   "cell_type": "markdown",
   "metadata": {},
   "source": [
    "## Load data"
   ]
  },
  {
   "cell_type": "code",
   "execution_count": 1,
   "metadata": {
    "collapsed": true
   },
   "outputs": [],
   "source": [
    "from zoo.common.nncontext import *\n",
    "from zoo.feature.image import *\n",
    "from zoo.pipeline.api.keras.layers import Input, Flatten, Dense\n",
    "from zoo.pipeline.api.keras.models import Model\n",
    "from zoo.pipeline.api.net import *\n",
    "from zoo.feature.common import ChainedPreprocessing\n",
    "from bigdl.optim.optimizer import SGD\n",
    "\n",
    "sparkConf = create_spark_conf().setMaster(\"local[4]\").setAppName(\"testNNClassifer\")\n",
    "sc = init_nncontext(sparkConf)"
   ]
  },
  {
   "cell_type": "markdown",
   "metadata": {},
   "source": [
    "Please manually set model_path and image_path for training\n",
    "\n",
    "1. model_path = path to the pre-trained models. (E.g. path/to/model/bigdl_inception-v1_imagenet_0.4.0.model)\n",
    "\n",
    "2. cats_path = path to the folder of the cats training images.\n",
    "\n",
    "3. dogs_path = path to the folder of the dogs training images.\n"
   ]
  },
  {
   "cell_type": "code",
   "execution_count": 2,
   "metadata": {
    "collapsed": true
   },
   "outputs": [],
   "source": [
    "model_path = \"/tmp/demo/bigdl_inception-v1_imagenet_0.4.0.model\"\n",
    "cats_path = \"/tmp/demo/cats\"\n",
    "dogs_path = \"/tmp/demo/dogs\"\n"
   ]
  },
  {
   "cell_type": "code",
   "execution_count": 3,
   "metadata": {},
   "outputs": [
    {
     "name": "stdout",
     "output_type": "stream",
     "text": [
      "creating: createDistributedImageSet\n"
     ]
    }
   ],
   "source": [
    "# read images and random split to train and validation set.\n",
    "cats_image_rdd = ImageSet.read(cats_path, sc).get_image(to_chw = False)\n",
    "dogs_image_rdd = ImageSet.read(dogs_path, sc).get_image(to_chw = False)\n",
    "\n",
    "cats_train_images, cats_test_images = cats_image_rdd.randomSplit([0.9, 0.1], 17)\n",
    "dogs_train_images, dogs_test_images = dogs_image_rdd.randomSplit([0.9, 0.1], 17)\n",
    "\n",
    "# generate labels for images\n",
    "cats_train_labels = cats_train_images.map(lambda i: np.ones([1]))\n",
    "dogs_train_labels = dogs_train_images.map(lambda i: np.zeros([1]))\n",
    "\n",
    "train_image_rdd = cats_train_images.union(dogs_train_images)\n",
    "train_label_rdd = cats_train_labels.union(dogs_train_labels)\n",
    "\n",
    "# generate DistributedImageSet\n",
    "train_image_set = DistributedImageSet(train_image_rdd, train_label_rdd)"
   ]
  },
  {
   "cell_type": "markdown",
   "metadata": {},
   "source": [
    "Define Transformers for image preprocessing, including resize, normalize and convert to Samples."
   ]
  },
  {
   "cell_type": "code",
   "execution_count": 4,
   "metadata": {},
   "outputs": [
    {
     "name": "stdout",
     "output_type": "stream",
     "text": [
      "creating: createImageBytesToMat\n",
      "creating: createImageResize\n",
      "creating: createImageCenterCrop\n",
      "creating: createImageChannelNormalize\n",
      "creating: createImageMatToTensor\n",
      "creating: createImageSetToSample\n",
      "creating: createChainedPreprocessing\n"
     ]
    }
   ],
   "source": [
    "transformer = ChainedPreprocessing(\n",
    "    [ImageBytesToMat(), ImageResize(256, 256), ImageCenterCrop(224, 224),\n",
    "     ImageChannelNormalize(0.485, 0.456, 0.406, 0.229, 0.224, 0.225),\n",
    "     ImageMatToTensor(), ImageSetToSample(target_keys=['label'])])"
   ]
  },
  {
   "cell_type": "markdown",
   "metadata": {},
   "source": [
    "Load Pretrained Inception model. While keeping the primary layers from the pretrained model, a few extra layers are added to adapt the model to the new model. Analytics Zoo provides convenient method like `new_graph` and `freeze_up_to`."
   ]
  },
  {
   "cell_type": "code",
   "execution_count": 8,
   "metadata": {},
   "outputs": [
    {
     "name": "stdout",
     "output_type": "stream",
     "text": [
      "creating: createZooKerasInput\n",
      "creating: createZooKerasFlatten\n",
      "creating: createZooKerasDense\n",
      "creating: createZooKerasModel\n",
      "creating: createDefault\n",
      "creating: createSGD\n",
      "creating: createZooKerasSparseCategoricalCrossEntropy\n",
      "creating: createZooKerasAccuracy\n"
     ]
    }
   ],
   "source": [
    "\n",
    "full_model = Net.load_bigdl(model_path)\n",
    "model = full_model.new_graph([\"pool5/drop_7x7_s1\"])\n",
    "\n",
    "# freeze weights of previous layers, so they are not changed during training.\n",
    "model.freeze_up_to([\"pool4/3x3_s2\"])\n",
    "\n",
    "inputNode = Input(name=\"input\", shape=(3, 224, 224))\n",
    "inception = model.to_keras()(inputNode)\n",
    "flatten = Flatten()(inception)\n",
    "logits = Dense(2, activation=\"softmax\")(flatten)\n",
    "dog_cat_model = Model(inputNode, logits)\n",
    "\n",
    "dog_cat_model.compile(optimizer=SGD(learningrate=0.001), loss=\"sparse_categorical_crossentropy\", metrics=[\"accuracy\"])\n"
   ]
  },
  {
   "cell_type": "code",
   "execution_count": 9,
   "metadata": {},
   "outputs": [
    {
     "name": "stdout",
     "output_type": "stream",
     "text": [
      "training...\n",
      "training finished\n"
     ]
    }
   ],
   "source": [
    "# model training\n",
    "batch_size = 16\n",
    "train_image_set = train_image_set.transform(transformer)\n",
    "print(\"training...\")\n",
    "dog_cat_model.fit(train_image_set, batch_size=batch_size, nb_epoch=2)\n",
    "print(\"training finished\")"
   ]
  },
  {
   "cell_type": "markdown",
   "metadata": {
    "collapsed": true
   },
   "source": [
    "Evalutate the trained model with test dataset."
   ]
  },
  {
   "cell_type": "code",
   "execution_count": 10,
   "metadata": {},
   "outputs": [
    {
     "name": "stdout",
     "output_type": "stream",
     "text": [
      "creating: createDistributedImageSet\n",
      "Evaluated result: 0.9754098653793335, total_num: 244, method: Top1Accuracy\n"
     ]
    }
   ],
   "source": [
    "cats_test_labels = cats_test_images.map(lambda i: np.ones([1]))\n",
    "dogs_test_labels = dogs_test_images.map(lambda i: np.zeros([1]))\n",
    "test_image_rdd = cats_test_images.union(dogs_test_images)\n",
    "test_label_rdd = cats_test_labels.union(dogs_test_labels)\n",
    "test_image_set = DistributedImageSet(test_image_rdd, test_label_rdd)\n",
    "\n",
    "# evaluate accuracy\n",
    "test_image_set = test_image_set.transform(transformer)\n",
    "accuracy = dog_cat_model.evaluate(test_image_set, batch_size=batch_size)\n",
    "print(accuracy[0])"
   ]
  },
  {
   "cell_type": "code",
   "execution_count": null,
   "metadata": {
    "collapsed": true
   },
   "outputs": [],
   "source": []
  }
 ],
 "metadata": {
  "kernelspec": {
   "display_name": "Python 3",
   "language": "python",
   "name": "python3"
  },
  "language_info": {
   "codemirror_mode": {
    "name": "ipython",
    "version": 3
   },
   "file_extension": ".py",
   "mimetype": "text/x-python",
   "name": "python",
   "nbconvert_exporter": "python",
   "pygments_lexer": "ipython3",
   "version": "3.5.3"
  }
 },
 "nbformat": 4,
 "nbformat_minor": 2
}
