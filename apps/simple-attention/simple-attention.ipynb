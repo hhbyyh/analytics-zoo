{
 "cells": [
  {
   "cell_type": "markdown",
   "metadata": {},
   "source": [
    "# Simple-Attention "
   ]
  },
  {
   "cell_type": "markdown",
   "metadata": {},
   "source": [
    "The notenook introduces simple attention mechanism implemented with Zoo Keras API."
   ]
  },
  {
   "cell_type": "markdown",
   "metadata": {},
   "source": [
    "## Dense layer with Attention\n",
    "\n",
    "Let's consider this Hello World example:\n",
    "\n",
    "A vector v of 32 values as input to the model (simple feedforward neural network).\n",
    "v[1] = target.\n",
    "Target is binary (either 0 or 1).\n",
    "All the other values of the vector v (v[0] and v[2:32]) are purely random and do not contribute to the target.\n",
    "We expect the attention to be focused on v[1] only, or at least strongly:"
   ]
  },
  {
   "cell_type": "code",
   "execution_count": 1,
   "metadata": {},
   "outputs": [
    {
     "name": "stdout",
     "output_type": "stream",
     "text": [
      "creating: createZooKerasInput\n",
      "creating: createZooKerasDense\n",
      "creating: createZooKerasMerge\n",
      "creating: createZooKerasDense\n",
      "creating: createZooKerasDense\n",
      "creating: createZooKerasModel\n",
      "creating: createAdam\n",
      "creating: createBCECriterion\n",
      "creating: createZooKerasAccuracy\n",
      "None\n",
      "attention = [ 0.01627639  0.67928052  0.01461436  0.01809778  0.00312758  0.00876188\n",
      "  0.00291414  0.00647227  0.00125693  0.01020642  0.00797412  0.00550699\n",
      "  0.00772522  0.00843727  0.02389522  0.01456996  0.00676908  0.01222085\n",
      "  0.01922013  0.01760512  0.01703159  0.00141871  0.00414275  0.01018488\n",
      "  0.01190639  0.01736827  0.00742603  0.00983353  0.01146181  0.00836217\n",
      "  0.00581221  0.01011952]\n"
     ]
    }
   ],
   "source": [
    "import numpy as np\n",
    "\n",
    "np.random.seed(1337)  # for reproducibility\n",
    "from zoo.common.nncontext import *\n",
    "from zoo.pipeline.api.keras.models import Model\n",
    "from zoo.pipeline.api.keras.layers import Dense, Input\n",
    "from zoo.pipeline.api.keras.engine.topology import merge\n",
    "\n",
    "def build_attention_model():\n",
    "    inputs = Input(shape=(input_dim,))\n",
    "\n",
    "    # ATTENTION PART STARTS HERE\n",
    "    attention_probs = Dense(input_dim, activation='softmax', name='attention_vec')(inputs)\n",
    "    attention_mul = merge([inputs, attention_probs], mode='mul')\n",
    "    # ATTENTION PART FINISHES HERE\n",
    "\n",
    "    attention_mul = Dense(32)(attention_mul)\n",
    "    output = Dense(1, activation='sigmoid')(attention_mul)\n",
    "    model = Model(input=[inputs], output=output)\n",
    "    return model\n",
    "\n",
    "def get_data(n, input_dim, attention_column=1):\n",
    "    \"\"\"\n",
    "    x[attention_column] = y\n",
    "    \"\"\"\n",
    "    x = np.random.standard_normal(size=(n, input_dim))\n",
    "    y = np.random.randint(low=0, high=2, size=(n, 1))\n",
    "    x[:, attention_column] = y[:, 0]\n",
    "    return x, y\n",
    "\n",
    "if __name__ == '__main__':\n",
    "\n",
    "    sparkConf = create_spark_conf()\n",
    "    sc = init_nncontext(sparkConf)\n",
    "\n",
    "    N = 10000\n",
    "    input_dim = 32\n",
    "\n",
    "    inputs_1, outputs = get_data(N, input_dim)\n",
    "\n",
    "    m = build_attention_model()\n",
    "    m.compile(optimizer='adam', loss='binary_crossentropy', metrics=['accuracy'])\n",
    "    print(m.summary())\n",
    "\n",
    "    m.fit(inputs_1, outputs, nb_epoch=20, batch_size=64)\n",
    "\n",
    "    # Attention vector corresponds to the second matrix.\n",
    "    # The first one is the Inputs output.\n",
    "    test_input = np.ones((1, 32))\n",
    "    attention_layer = m.get_layer(\"attention_vec\")\n",
    "    attention_vector = attention_layer.predict(test_input)[0]\n",
    "    print('attention =', attention_vector)\n",
    "\n"
   ]
  },
  {
   "cell_type": "code",
   "execution_count": 2,
   "metadata": {},
   "outputs": [
    {
     "data": {
      "image/png": "[encoded data removed]",
      "text/plain": [
       "<matplotlib.figure.Figure at 0x7fe2d2459898>"
      ]
     },
     "metadata": {},
     "output_type": "display_data"
    }
   ],
   "source": [
    "# plot part.\n",
    "import matplotlib.pyplot as plt\n",
    "import pandas as pd\n",
    "pd.DataFrame(attention_vector,\n",
    "            columns=['attention (%)']).plot(kind='bar',\n",
    "                                            title='Attention over input features.')\n",
    "plt.show()"
   ]
  },
  {
   "cell_type": "markdown",
   "metadata": {},
   "source": [
    "We can clearly see that the network figures this out for the inference.\n",
    "\n",
    "Behind the scenes\n",
    "\n",
    "The attention mechanism can be implemented in three lines with Keras:\n",
    "```\n",
    "inputs = Input(shape=(input_dims,))\n",
    "attention_probs = Dense(input_dims, activation='softmax', name='attention_probs')(inputs)\n",
    "attention_mul = merge([inputs, attention_probs], output_shape=32, name='attention_mul', mode='mul')\n",
    "```\n",
    "\n",
    "We apply a Dense - Softmax layer with the same number of output parameters than the Input layer. The attention matrix has a shape of input_dims x input_dims here.\n",
    "\n",
    "Then we merge the Inputs layer with the attention layer by multiplying element-wise.\n"
   ]
  },
  {
   "cell_type": "markdown",
   "metadata": {},
   "source": [
    "## Recurrent Layers (LSTM, GRU...) with Attention\n",
    "\n",
    "Application of attention at input level\n",
    "\n",
    "We consider the same example as the one used for the Dense layers. The attention index is now on the 10th value. We therefore expect an attention spike around this value. There are two main ways to apply attention to recurrent layers:\n",
    "\n",
    "Directly on the inputs (same as the Dense example above): APPLY_ATTENTION_BEFORE_LSTM = True"
   ]
  },
  {
   "cell_type": "code",
   "execution_count": 3,
   "metadata": {},
   "outputs": [
    {
     "name": "stdout",
     "output_type": "stream",
     "text": [
      "creating: createZooKerasInput\n",
      "creating: createZooKerasPermute\n",
      "creating: createZooKerasDense\n",
      "creating: createZooKerasPermute\n",
      "creating: createZooKerasMerge\n",
      "creating: createZooKerasLSTM\n",
      "creating: createZooKerasDense\n",
      "creating: createZooKerasModel\n",
      "creating: createAdam\n",
      "creating: createBCECriterion\n",
      "creating: createZooKerasAccuracy\n",
      "[ 0.01060883  0.0097768   0.01198363  0.00716008  0.01210861  0.01906555\n",
      "  0.02104882  0.00955848  0.00624979  0.00591045  0.75422114  0.00743659\n",
      "  0.00564696  0.00476283  0.01417882  0.01215875  0.00941554  0.05513887\n",
      "  0.02209737  0.00147208]\n"
     ]
    },
    {
     "data": {
      "image/png": "[encoded data removed]",
      "text/plain": [
       "<matplotlib.figure.Figure at 0x7fe2cc096ac8>"
      ]
     },
     "metadata": {},
     "output_type": "display_data"
    }
   ],
   "source": [
    "import numpy as np\n",
    "\n",
    "np.random.seed(1001)  # for reproducibility\n",
    "from zoo.common.nncontext import *\n",
    "from zoo.pipeline.api.keras.layers.recurrent import LSTM\n",
    "from zoo.pipeline.api.keras.models import Model\n",
    "from zoo.pipeline.api.keras.layers import Dense, Input, Permute, Reshape, Flatten\n",
    "from zoo.pipeline.api.keras.engine.topology import merge\n",
    "from bigdl.util.common import RNG\n",
    "\n",
    "rng = RNG()\n",
    "rng.set_seed(1000)\n",
    "INPUT_DIM = 2\n",
    "TIME_STEPS = 20\n",
    "\n",
    "def attention_3d_block(inputs):\n",
    "    # inputs.shape = (batch_size, time_steps, input_dim)\n",
    "    input_dim = int(INPUT_DIM)\n",
    "    a = Permute((2, 1))(inputs)\n",
    "    a = Dense(TIME_STEPS, activation='softmax')(a)\n",
    "    a_probs = Permute((2, 1), name='attention_vec')(a)\n",
    "    output_attention_mul = merge([inputs, a_probs], name='attention_mul', mode='mul')\n",
    "    return output_attention_mul\n",
    "\n",
    "\n",
    "def model_attention_applied_before_lstm():\n",
    "    inputs = Input(shape=(TIME_STEPS, INPUT_DIM,))\n",
    "    attention_mul = attention_3d_block(inputs)\n",
    "    lstm_units = 32\n",
    "    attention_mul = LSTM(lstm_units, return_sequences=False)(attention_mul)\n",
    "    output = Dense(1, activation='sigmoid')(attention_mul)\n",
    "    model = Model(input=[inputs], output=output)\n",
    "    return model\n",
    "\n",
    "\n",
    "def model_attention_applied_after_lstm():\n",
    "    inputs = Input(shape=(TIME_STEPS, INPUT_DIM,))\n",
    "    lstm_units = 32\n",
    "    lstm_out = LSTM(lstm_units, return_sequences=True)(inputs)\n",
    "    attention_mul = attention_3d_block(lstm_out)\n",
    "    attention_mul = Flatten()(attention_mul)\n",
    "    output = Dense(1, activation='sigmoid')(attention_mul)\n",
    "    model = Model(input=[inputs], output=output)\n",
    "    return model\n",
    "\n",
    "\n",
    "def get_data_recurrent(n, time_steps, input_dim, attention_column=10):\n",
    "    \"\"\"\n",
    "    target = x[attention_column].\n",
    "    \"\"\"\n",
    "    x = np.random.standard_normal(size=(n, time_steps, input_dim))\n",
    "    y = np.random.randint(low=0, high=2, size=(n, 1))\n",
    "    x[:, attention_column, :] = np.tile(y[:], (1, input_dim))\n",
    "    return x, y\n",
    "\n",
    "\n",
    "if __name__ == '__main__':\n",
    "\n",
    "    N = 300000\n",
    "    inputs_1, outputs = get_data_recurrent(N, TIME_STEPS, INPUT_DIM)\n",
    "    \n",
    "    # apply attention before LSTM\n",
    "    m = model_attention_applied_before_lstm()\n",
    "\n",
    "\n",
    "    m.compile(optimizer='adam', loss='binary_crossentropy', metrics=['accuracy'])\n",
    "    m.fit(inputs_1, outputs, nb_epoch=1, batch_size=64)\n",
    "\n",
    "    # get attention vector\n",
    "    x = np.ones((1, TIME_STEPS, INPUT_DIM))\n",
    "    attention_model = m.new_graph(['attention_vec'])\n",
    "    attention_vector = attention_model.predict(x).collect()[0]\n",
    "    print(attention_vector[:, 0])\n",
    "\n",
    "    import matplotlib.pyplot as plt\n",
    "    import pandas as pd\n",
    "    attention_vector_final = attention_vector[:, 0]\n",
    "    pd.DataFrame(attention_vector_final,\n",
    "                 columns=['attention (%)']).plot(kind='bar', title='Attention over input features.')\n",
    "    plt.show()"
   ]
  },
  {
   "cell_type": "code",
   "execution_count": 4,
   "metadata": {},
   "outputs": [
    {
     "name": "stdout",
     "output_type": "stream",
     "text": [
      "creating: createZooKerasInput\n",
      "creating: createZooKerasLSTM\n",
      "creating: createZooKerasPermute\n",
      "creating: createZooKerasDense\n",
      "creating: createZooKerasPermute\n",
      "creating: createZooKerasMerge\n",
      "creating: createZooKerasFlatten\n",
      "creating: createZooKerasDense\n",
      "creating: createZooKerasModel\n",
      "creating: createAdam\n",
      "creating: createBCECriterion\n",
      "creating: createZooKerasAccuracy\n",
      "[  3.41284118e-04   2.78609077e-04   3.19919258e-04   3.36405647e-04\n",
      "   3.06878006e-04   2.98665982e-04   2.53600243e-04   3.56121367e-04\n",
      "   3.61470476e-04   3.57568555e-04   9.94164884e-01   6.47786737e-06\n",
      "   5.03655814e-04   2.75031722e-04   3.40831059e-04   3.11097654e-04\n",
      "   3.11133277e-04   2.65544310e-04   3.25361587e-04   2.85356771e-04]\n"
     ]
    },
    {
     "data": {
      "image/png": "[encoded data removed]",
      "text/plain": [
       "<matplotlib.figure.Figure at 0x7fe2f8f01390>"
      ]
     },
     "metadata": {},
     "output_type": "display_data"
    }
   ],
   "source": [
    "    # apply attention after LSTM\n",
    "    m = model_attention_applied_after_lstm()\n",
    "\n",
    "    m.compile(optimizer='adam', loss='binary_crossentropy', metrics=['accuracy'])\n",
    "    m.fit(inputs_1, outputs, nb_epoch=1, batch_size=64)\n",
    "\n",
    "    # get attention vector\n",
    "    x = np.ones((1, TIME_STEPS, INPUT_DIM))\n",
    "    attention_model = m.new_graph(['attention_vec'])\n",
    "    attention_vector = attention_model.predict(x).collect()[0]\n",
    "    print(attention_vector[:, 0])\n",
    "\n",
    "    # plot part\n",
    "    import matplotlib.pyplot as plt\n",
    "    import pandas as pd\n",
    "    attention_vector_final = attention_vector[:, 0]\n",
    "    pd.DataFrame(attention_vector_final,\n",
    "                 columns=['attention (%)']).plot(kind='bar', title='Attention over input features.')\n",
    "    plt.show()"
   ]
  },
  {
   "cell_type": "markdown",
   "metadata": {},
   "source": [
    "We can clearly see that the network figures out that the 10th feature is the most important feature that's worth more attention."
   ]
  },
  {
   "cell_type": "markdown",
   "metadata": {},
   "source": [
    "## Summary\n",
    "In this notebook, we use the Keras API in Analytics Zoo to build some simple models with attention mechanism. In both Dense and LSTM examples, the attention layer can capture the important features and "
   ]
  }
 ],
 "metadata": {
  "kernelspec": {
   "display_name": "Python 3",
   "language": "python",
   "name": "python3"
  },
  "language_info": {
   "codemirror_mode": {
    "name": "ipython",
    "version": 3
   },
   "file_extension": ".py",
   "mimetype": "text/x-python",
   "name": "python",
   "nbconvert_exporter": "python",
   "pygments_lexer": "ipython3",
   "version": "3.5.3"
  }
 },
 "nbformat": 4,
 "nbformat_minor": 2
}
