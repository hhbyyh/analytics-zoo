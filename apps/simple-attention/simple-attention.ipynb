{
 "cells": [
  {
   "cell_type": "markdown",
   "metadata": {},
   "source": [
    "# Simple-Attention "
   ]
  },
  {
   "cell_type": "markdown",
   "metadata": {},
   "source": [
    "The notenook introduces simple attention mechanism implemented with Zoo Keras API."
   ]
  },
  {
   "cell_type": "markdown",
   "metadata": {},
   "source": [
    "## Dense layer with Attention\n",
    "\n",
    "Let's consider this Hello World example:\n",
    "\n",
    "A vector v of 32 values as input to the model (simple feedforward neural network).\n",
    "v[1] = target.\n",
    "Target is binary (either 0 or 1).\n",
    "All the other values of the vector v (v[0] and v[2:32]) are purely random and do not contribute to the target.\n",
    "We expect the attention to be focused on v[1] only, or at least strongly:"
   ]
  },
  {
   "cell_type": "code",
   "execution_count": 6,
   "metadata": {},
   "outputs": [
    {
     "name": "stdout",
     "output_type": "stream",
     "text": [
      "creating: createZooKerasInput\n",
      "creating: createZooKerasDense\n",
      "creating: createZooKerasMerge\n",
      "creating: createZooKerasDense\n",
      "creating: createZooKerasDense\n",
      "creating: createZooKerasModel\n",
      "creating: createAdam\n",
      "creating: createBCECriterion\n",
      "creating: createZooKerasAccuracy\n",
      "None\n",
      "attention = [ 0.01673984  0.60461038  0.00663691  0.0140709   0.00623445  0.00987797\n",
      "  0.00709916  0.00649626  0.01156599  0.01007258  0.01035244  0.00718721\n",
      "  0.01491253  0.02272147  0.00759024  0.00607355  0.00928138  0.01721318\n",
      "  0.01348931  0.01580597  0.00949804  0.02374025  0.01336815  0.00678879\n",
      "  0.00948458  0.03563024  0.00472938  0.00931457  0.01234384  0.0088151\n",
      "  0.01951736  0.02873809]\n"
     ]
    }
   ],
   "source": [
    "import numpy as np\n",
    "\n",
    "np.random.seed(1337)  # for reproducibility\n",
    "from zoo.common.nncontext import *\n",
    "from zoo.pipeline.api.keras.models import Model\n",
    "from zoo.pipeline.api.keras.layers import Dense, Input\n",
    "from zoo.pipeline.api.keras.engine.topology import merge\n",
    "\n",
    "input_dim = 32\n",
    "\n",
    "def build_attention_model():\n",
    "    inputs = Input(shape=(input_dim,))\n",
    "\n",
    "    # ATTENTION PART STARTS HERE\n",
    "    attention_probs = Dense(input_dim, activation='softmax', name='attention_vec')(inputs)\n",
    "    attention_mul = merge([inputs, attention_probs], mode='mul')\n",
    "    # ATTENTION PART FINISHES HERE\n",
    "\n",
    "    attention_mul = Dense(32)(attention_mul)\n",
    "    output = Dense(1, activation='sigmoid')(attention_mul)\n",
    "    model = Model(input=[inputs], output=output)\n",
    "    return model\n",
    "\n",
    "def get_data(n, input_dim, attention_column=1):\n",
    "    \"\"\"\n",
    "    Data generation. x is purely random except that it's first value equals the target y.\n",
    "    In practice, the network should learn that the target = x[attention_column].\n",
    "    Therefore, most of its attention should be focused on the value addressed by attention_column.\n",
    "    :param n: the number of samples to retrieve.\n",
    "    :param input_dim: the number of dimensions of each element in the series.\n",
    "    :param attention_column: the column linked to the target. Everything else is purely random.\n",
    "    :return: x: model inputs, y: model targets\n",
    "    \"\"\"\n",
    "    x = np.random.standard_normal(size=(n, input_dim))\n",
    "    y = np.random.randint(low=0, high=2, size=(n, 1))\n",
    "    x[:, attention_column] = y[:, 0]\n",
    "    return x, y\n",
    "\n",
    "\n",
    "if __name__ == '__main__':\n",
    "\n",
    "    sparkConf = create_spark_conf().setMaster(\"local[1]\").setAppName(\"testNNClassifer\")\n",
    "    sc = init_nncontext(sparkConf)\n",
    "    sqlContext = SQLContext(sc)\n",
    "\n",
    "    N = 10000\n",
    "    inputs_1, outputs = get_data(N, input_dim)\n",
    "\n",
    "    m = build_attention_model()\n",
    "    m.compile(optimizer='adam', loss='binary_crossentropy', metrics=['accuracy'])\n",
    "    print(m.summary())\n",
    "\n",
    "    m.fit(inputs_1, outputs, nb_epoch=20, batch_size=64)\n",
    "\n",
    "    # Attention vector corresponds to the second matrix.\n",
    "    # The first one is the Inputs output.\n",
    "    test_input = np.ones((1, 32))\n",
    "    attention_layer = m.get_layer(\"attention_vec\")\n",
    "    attention_vector = attention_layer.predict(test_input)[0]\n",
    "    print('attention =', attention_vector)\n",
    "\n"
   ]
  },
  {
   "cell_type": "code",
   "execution_count": 7,
   "metadata": {},
   "outputs": [
    {
     "data": {
      "image/png": "[encoded data removed]",
      "text/plain": [
       "<matplotlib.figure.Figure at 0x7f8fb9e89748>"
      ]
     },
     "metadata": {},
     "output_type": "display_data"
    }
   ],
   "source": [
    "# plot part.\n",
    "import matplotlib.pyplot as plt\n",
    "import pandas as pd\n",
    "pd.DataFrame(attention_vector,\n",
    "            columns=['attention (%)']).plot(kind='bar',\n",
    "                                            title='Attention over input features.')\n",
    "plt.show()"
   ]
  },
  {
   "cell_type": "markdown",
   "metadata": {},
   "source": [
    "We can clearly see that the network figures this out for the inference.\n",
    "\n",
    "Behind the scenes\n",
    "\n",
    "The attention mechanism can be implemented in three lines with Keras:\n",
    "```\n",
    "inputs = Input(shape=(input_dims,))\n",
    "attention_probs = Dense(input_dims, activation='softmax', name='attention_probs')(inputs)\n",
    "attention_mul = merge([inputs, attention_probs], output_shape=32, name='attention_mul', mode='mul')\n",
    "```\n",
    "\n",
    "We apply a Dense - Softmax layer with the same number of output parameters than the Input layer. The attention matrix has a shape of input_dims x input_dims here.\n",
    "\n",
    "Then we merge the Inputs layer with the attention layer by multiplying element-wise.\n"
   ]
  },
  {
   "cell_type": "markdown",
   "metadata": {},
   "source": [
    "## Attention with Recurrent Layers (LSTM, GRU...)\n",
    "\n",
    "Application of attention at input level\n",
    "\n",
    "We consider the same example as the one used for the Dense layers. The attention index is now on the 10th value. We therefore expect an attention spike around this value. There are two main ways to apply attention to recurrent layers:\n",
    "\n",
    "Directly on the inputs (same as the Dense example above): APPLY_ATTENTION_BEFORE_LSTM = True"
   ]
  },
  {
   "cell_type": "code",
   "execution_count": 1,
   "metadata": {},
   "outputs": [
    {
     "name": "stdout",
     "output_type": "stream",
     "text": [
      "creating: createZooKerasInput\n",
      "creating: createZooKerasPermute\n",
      "creating: createZooKerasReshape\n",
      "creating: createZooKerasDense\n",
      "creating: createZooKerasPermute\n",
      "creating: createZooKerasMerge\n",
      "creating: createZooKerasLSTM\n",
      "creating: createZooKerasDense\n",
      "creating: createZooKerasModel\n",
      "creating: createAdam\n",
      "creating: createBCECriterion\n",
      "creating: createZooKerasAccuracy\n",
      "[ 0.0300724   0.00784304  0.0139873   0.01305691  0.02741207  0.03036483\n",
      "  0.01112229  0.00849365  0.03701137  0.00243722  0.67882746  0.02065249\n",
      "  0.02525794  0.00461523  0.00353438  0.02520137  0.00644305  0.01140749\n",
      "  0.00936944  0.03289008]\n"
     ]
    }
   ],
   "source": [
    "import numpy as np\n",
    "\n",
    "np.random.seed(1337)  # for reproducibility\n",
    "from zoo.common.nncontext import *\n",
    "from zoo.pipeline.api.keras.layers.recurrent import LSTM\n",
    "from zoo.pipeline.api.keras.models import Model\n",
    "from zoo.pipeline.api.keras.layers import Dense, Input, Permute, Reshape, Flatten\n",
    "from zoo.pipeline.api.keras.engine.topology import merge\n",
    "\n",
    "INPUT_DIM = 2\n",
    "TIME_STEPS = 20\n",
    "APPLY_ATTENTION_BEFORE_LSTM = True\n",
    "\n",
    "def attention_3d_block(inputs):\n",
    "    # inputs.shape = (batch_size, time_steps, input_dim)\n",
    "    input_dim = int(INPUT_DIM)\n",
    "    a = Permute((2, 1))(inputs)\n",
    "    a = Reshape((input_dim, TIME_STEPS))(a) # this line is not useful. It's just to know which dimension is what.\n",
    "    a = Dense(TIME_STEPS, activation='softmax')(a)\n",
    "    a_probs = Permute((2, 1), name='attention_vec')(a)\n",
    "    output_attention_mul = merge([inputs, a_probs], name='attention_mul', mode='mul')\n",
    "    return output_attention_mul\n",
    "\n",
    "\n",
    "def model_attention_applied_before_lstm():\n",
    "    inputs = Input(shape=(TIME_STEPS, INPUT_DIM,))\n",
    "    attention_mul = attention_3d_block(inputs)\n",
    "    lstm_units = 32\n",
    "    attention_mul = LSTM(lstm_units, return_sequences=False)(attention_mul)\n",
    "    output = Dense(1, activation='sigmoid')(attention_mul)\n",
    "    model = Model(input=[inputs], output=output)\n",
    "    return model\n",
    "\n",
    "\n",
    "def model_attention_applied_after_lstm():\n",
    "    inputs = Input(shape=(TIME_STEPS, INPUT_DIM,))\n",
    "    lstm_units = 32\n",
    "    lstm_out = LSTM(lstm_units, return_sequences=True)(inputs)\n",
    "    attention_mul = attention_3d_block(lstm_out)\n",
    "    attention_mul = Flatten()(attention_mul)\n",
    "    output = Dense(1, activation='sigmoid')(attention_mul)\n",
    "    model = Model(input=[inputs], output=output)\n",
    "    return model\n",
    "\n",
    "def get_data_recurrent(n, time_steps, input_dim, attention_column=10):\n",
    "    \"\"\"\n",
    "    Data generation. x is purely random except that it's first value equals the target y.\n",
    "    In practice, the network should learn that the target = x[attention_column].\n",
    "    Therefore, most of its attention should be focused on the value addressed by attention_column.\n",
    "    :param n: the number of samples to retrieve.\n",
    "    :param time_steps: the number of time steps of your series.\n",
    "    :param input_dim: the number of dimensions of each element in the series.\n",
    "    :param attention_column: the column linked to the target. Everything else is purely random.\n",
    "    :return: x: model inputs, y: model targets\n",
    "    \"\"\"\n",
    "    x = np.random.standard_normal(size=(n, time_steps, input_dim))\n",
    "    y = np.random.randint(low=0, high=2, size=(n, 1))\n",
    "    x[:, attention_column, :] = np.tile(y[:], (1, input_dim))\n",
    "    return x, y\n",
    "\n",
    "\n",
    "if __name__ == '__main__':\n",
    "\n",
    "    sparkConf = create_spark_conf().setMaster(\"local[1]\").setAppName(\"testNNClassifer\")\n",
    "    sc = init_nncontext(sparkConf)\n",
    "    sqlContext = SQLContext(sc)\n",
    "\n",
    "    N = 300000\n",
    "    # N = 300 -> too few = no training\n",
    "    inputs_1, outputs = get_data_recurrent(N, TIME_STEPS, INPUT_DIM)\n",
    "\n",
    "    if APPLY_ATTENTION_BEFORE_LSTM:\n",
    "        m = model_attention_applied_before_lstm()\n",
    "    else:\n",
    "        m = model_attention_applied_after_lstm()\n",
    "\n",
    "    m.compile(optimizer='adam', loss='binary_crossentropy', metrics=['accuracy'])\n",
    "\n",
    "    m.fit(inputs_1, outputs, nb_epoch=1, batch_size=64)\n",
    "\n",
    "    x = np.ones((1, TIME_STEPS, INPUT_DIM))\n",
    "    attention_model = m.new_graph(['attention_vec'])\n",
    "    attention_vector = attention_model.predict(x).collect()[0]\n",
    "\n",
    "    print(attention_vector[:, 0])\n",
    "\n",
    "    attention_vector_final = attention_vector[:, 0]\n",
    "\n"
   ]
  },
  {
   "cell_type": "code",
   "execution_count": 2,
   "metadata": {},
   "outputs": [
    {
     "data": {
      "image/png": "[encoded data removed]",
      "text/plain": [
       "<matplotlib.figure.Figure at 0x7f06229e75c0>"
      ]
     },
     "metadata": {},
     "output_type": "display_data"
    }
   ],
   "source": [
    "import matplotlib.pyplot as plt\n",
    "import pandas as pd\n",
    "\n",
    "pd.DataFrame(attention_vector_final,\n",
    "             columns=['attention (%)']).plot(kind='bar', title='Attention over input features.')\n",
    "plt.show()"
   ]
  },
  {
   "cell_type": "markdown",
   "metadata": {},
   "source": [
    "We can clearly see that the network figures out that the 10th feature is the most important feature that's worth more attention."
   ]
  },
  {
   "cell_type": "markdown",
   "metadata": {},
   "source": [
    "## Summary\n",
    "In this notebook, we use the Keras API in Analytics Zoo to build some simple models with attention mechanism. In both Dense and LSTM examples, the attention layer can capture the important features and "
   ]
  }
 ],
 "metadata": {
  "kernelspec": {
   "display_name": "Python 3",
   "language": "python",
   "name": "python3"
  },
  "language_info": {
   "codemirror_mode": {
    "name": "ipython",
    "version": 3
   },
   "file_extension": ".py",
   "mimetype": "text/x-python",
   "name": "python",
   "nbconvert_exporter": "python",
   "pygments_lexer": "ipython3",
   "version": "3.5.3"
  }
 },
 "nbformat": 4,
 "nbformat_minor": 2
}
